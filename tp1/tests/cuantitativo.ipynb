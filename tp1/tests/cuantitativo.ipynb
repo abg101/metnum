{
 "cells": [
  {
   "cell_type": "code",
   "execution_count": 1,
   "metadata": {},
   "outputs": [],
   "source": [
    "import numpy as np\n",
    "import matplotlib\n",
    "import matplotlib.pyplot as plt\n",
    "import seaborn as sb\n",
    "import networkx as nx\n",
    "import random\n",
    "import os\n",
    "import sys\n",
    "import subprocess\n",
    "import re\n",
    "\n"
   ]
  },
  {
   "cell_type": "code",
   "execution_count": null,
   "metadata": {},
   "outputs": [],
   "source": []
  },
  {
   "cell_type": "markdown",
   "metadata": {},
   "source": [
    "Definiciones"
   ]
  },
  {
   "cell_type": "code",
   "execution_count": 2,
   "metadata": {},
   "outputs": [],
   "source": [
    "def writeGraph(grafo,file_output):\n",
    "    with open(file_output, 'w') as f:\n",
    "        f.write(str(len(grafo))+'\\n')\n",
    "        f.write(str(grafo.number_of_edges())+'\\n')\n",
    "        for eje in list(grafo.edges):\n",
    "            f.write(str(eje[0]+1)+' '+str(eje[1]+1)+'\\n')\n",
    "            \n",
    "def readGraph(file_input):\n",
    "    ejes = []\n",
    "    with open(file_input, 'r') as f:\n",
    "        nodos = f.readline()\n",
    "        ejes = f.readline()\n",
    "        for line in f:\n",
    "            ejes.append((line.split(' ')[0],line.split(' ')[1]))\n",
    "    return ejes               \n",
    "\n",
    "def readTiempos(file):\n",
    "    variables = []\n",
    "    tiempos = []\n",
    "    with open(file, 'r') as f:\n",
    "        for line in f:\n",
    "            variables.append(float(line.split(' ')[0]))\n",
    "            tiempos.append(float(line.split(' ')[1]))\n",
    "    return (variables, tiempos)"
   ]
  },
  {
   "cell_type": "markdown",
   "metadata": {},
   "source": [
    "## Variamos cantidad nodos"
   ]
  },
  {
   "cell_type": "code",
   "execution_count": 98,
   "metadata": {},
   "outputs": [
    {
     "data": {
      "text/plain": [
       "[500,\n",
       " 550,\n",
       " 600,\n",
       " 650,\n",
       " 700,\n",
       " 750,\n",
       " 800,\n",
       " 850,\n",
       " 900,\n",
       " 950,\n",
       " 1000,\n",
       " 1050,\n",
       " 1100,\n",
       " 1150,\n",
       " 1200,\n",
       " 1250,\n",
       " 1300,\n",
       " 1350,\n",
       " 1400,\n",
       " 1450,\n",
       " 1500,\n",
       " 1550,\n",
       " 1600,\n",
       " 1650,\n",
       " 1700,\n",
       " 1750,\n",
       " 1800,\n",
       " 1850,\n",
       " 1900,\n",
       " 1950]"
      ]
     },
     "execution_count": 98,
     "metadata": {},
     "output_type": "execute_result"
    }
   ],
   "source": [
    "start = 500\n",
    "cuantos = 30\n",
    "distancia = 50\n",
    "repeticiones = 5\n",
    "proporcion_ejes = 4/3\n",
    "\n",
    "nodos = [start+distancia*x for x in range(0,cuantos)]\n",
    "ejes_de_nodos = [int(x*(x-1)/proporcion_ejes) for x in nodos]\n",
    "ejes_de_nodos\n",
    "nodos"
   ]
  },
  {
   "cell_type": "code",
   "execution_count": 102,
   "metadata": {
    "scrolled": true
   },
   "outputs": [
    {
     "ename": "NameError",
     "evalue": "name 'ejes' is not defined",
     "output_type": "error",
     "traceback": [
      "\u001b[0;31m---------------------------------------------------------------------------\u001b[0m",
      "\u001b[0;31mNameError\u001b[0m                                 Traceback (most recent call last)",
      "\u001b[0;32m<ipython-input-102-1d8f0708291e>\u001b[0m in \u001b[0;36m<module>\u001b[0;34m()\u001b[0m\n\u001b[0;32m----> 1\u001b[0;31m \u001b[0mejes\u001b[0m\u001b[0;34m\u001b[0m\u001b[0m\n\u001b[0m",
      "\u001b[0;31mNameError\u001b[0m: name 'ejes' is not defined"
     ]
    }
   ],
   "source": [
    "ejes"
   ]
  },
  {
   "cell_type": "code",
   "execution_count": 73,
   "metadata": {},
   "outputs": [],
   "source": [
    "ejecutable = '../src/tp1'\n",
    "p = 0.85\n",
    "file_input = 'cuantitativos/test-nodos'\n",
    "file_tiempos = 'tiempos-nodos.txt'\n",
    "file_output = file_input\n"
   ]
  },
  {
   "cell_type": "code",
   "execution_count": 95,
   "metadata": {},
   "outputs": [],
   "source": [
    "(variables_nodos, tiempos_de_los_nodos) = readTiempos(\"tiempos-nodos.txt500-2000-e10\")\n",
    "nodos_prima = variables_nodos\n",
    "tiempos_nodos = tiempos_de_los_nodos\n",
    "nodos = nodos_prima"
   ]
  },
  {
   "cell_type": "code",
   "execution_count": null,
   "metadata": {},
   "outputs": [],
   "source": [
    "\n",
    "tiempos = []\n",
    "for vertex in nodos:\n",
    "    grafo = nx.gnm_random_graph(vertex, vertex*(vertex-1)/proporcion_ejes, seed=1687980, directed=True)\n",
    "    filtrado = [(nodox == nodoy) for (nodox, nodoy) in grafo.edges()]\n",
    "    #veo que no autoejes\n",
    "    while True in filtrado:\n",
    "        grafo = nx.gnm_random_graph(vertex,vertex*(vertex-1)/proporcion_ejes, seed=1687980, directed=True)\n",
    "        filtrado = [(nodox == nodoy) for (nodox, nodoy) in grafo.edges()]\n",
    "    \n",
    "    nombre_archivo = file_input+'-'+str(len(grafo))+'-'+str(grafo.number_of_edges())+'.txt'\n",
    "    writeGraph(grafo, nombre_archivo)\n",
    "    \n",
    "    tiempo_acum = 0.0\n",
    "    for i in range(repeticiones):\n",
    "\n",
    "        proceso = subprocess.Popen([ejecutable,nombre_archivo, str(p),'-t'],stdout=subprocess.PIPE)\n",
    "        [output, error] = proceso.communicate()\n",
    "        tiempo_acum = tiempo_acum + float(output)\n",
    "\n",
    "    tiempo_acum = tiempo_acum/float(repeticiones)\n",
    "    tiempos.append(tiempo_acum)\n",
    "    "
   ]
  },
  {
   "cell_type": "code",
   "execution_count": 75,
   "metadata": {},
   "outputs": [],
   "source": [
    "nodos_75per = nodos\n",
    "tiempos_75per = []\n",
    "prop_ejes_75per = 4/3"
   ]
  },
  {
   "cell_type": "code",
   "execution_count": null,
   "metadata": {},
   "outputs": [],
   "source": [
    "\n",
    "tiempos = []\n",
    "for vertex in nodos:\n",
    "    grafo = nx.gnm_random_graph(vertex, vertex*(vertex-1)/proporcion_ejes, seed=1687980, directed=True)\n",
    "    filtrado = [(nodox == nodoy) for (nodox, nodoy) in grafo.edges()]\n",
    "    #veo que no autoejes\n",
    "    while True in filtrado:\n",
    "        grafo = nx.gnm_random_graph(vertex,vertex*(vertex-1)/proporcion_ejes, seed=1687980, directed=True)\n",
    "        filtrado = [(nodox == nodoy) for (nodox, nodoy) in grafo.edges()]\n",
    "    \n",
    "    nombre_archivo = file_input+'-'+str(len(grafo))+'-'+str(grafo.number_of_edges())+'.txt'\n",
    "    writeGraph(grafo, nombre_archivo)\n",
    "    \n",
    "    tiempo_acum = 0.0\n",
    "    for i in range(repeticiones):\n",
    "\n",
    "        proceso = subprocess.Popen([ejecutable,nombre_archivo, str(p),'-t'],stdout=subprocess.PIPE)\n",
    "        [output, error] = proceso.communicate()\n",
    "        tiempo_acum = tiempo_acum + float(output)\n",
    "\n",
    "    tiempo_acum = tiempo_acum/float(repeticiones)\n",
    "    tiempos.append(tiempo_acum)"
   ]
  },
  {
   "cell_type": "code",
   "execution_count": 76,
   "metadata": {},
   "outputs": [
    {
     "data": {
      "text/plain": [
       "[546592.6,\n",
       " 777530.0,\n",
       " 998172.6,\n",
       " 1403056.0,\n",
       " 1823716.0,\n",
       " 2517494.0,\n",
       " 3386282.0,\n",
       " 3834444.0,\n",
       " 4588236.0,\n",
       " 5542230.0,\n",
       " 6647844.0,\n",
       " 8067378.0,\n",
       " 9354516.0,\n",
       " 10684100.0,\n",
       " 12760840.0,\n",
       " 14603300.0,\n",
       " 17499740.0,\n",
       " 17944360.0,\n",
       " 19435220.0,\n",
       " 22875340.0,\n",
       " 27714960.0,\n",
       " 30864700.0,\n",
       " 34353480.0,\n",
       " 36037620.0,\n",
       " 42846220.0,\n",
       " 43718240.0,\n",
       " 47935960.0,\n",
       " 54605060.0,\n",
       " 56600040.0,\n",
       " 59223760.0]"
      ]
     },
     "execution_count": 76,
     "metadata": {},
     "output_type": "execute_result"
    }
   ],
   "source": [
    "with open(file_tiempos+\"500-2000-e3\", 'w') as f:\n",
    "    for n, t in zip(nodos,tiempos):\n",
    "        f.write(str(n)+' '+str(t)+'\\n')\n",
    "tiempos"
   ]
  },
  {
   "cell_type": "code",
   "execution_count": 97,
   "metadata": {},
   "outputs": [
    {
     "data": {
      "image/png": "[encoded data removed]",
      "text/plain": [
       "<Figure size 432x288 with 1 Axes>"
      ]
     },
     "metadata": {},
     "output_type": "display_data"
    }
   ],
   "source": [
    "#x = [start+distancia*x for x in range(0,5)]\n",
    "plt.plot(nodos, tiempos_nodos, marker='o', linestyle = ':', label = \"tiempo de computo del ranking\")\n",
    "#plt.plot([z/110-10 for z in range(500,5000)], label = \"x³/178\")\n",
    "plt.xlabel(\"cantidad de nodos\")\n",
    "plt.ylabel(\"tiempo (microsegundos)\")\n",
    "plt.title(\"Tiempo en función de la cantidad de nodos\")\n",
    "plt.legend(loc=2)\n",
    "#plt.savefig(\"tiempo_nodos_prop_500-2000_solo_e10\"+\".png\")\n",
    "plt.show()"
   ]
  },
  {
   "cell_type": "markdown",
   "metadata": {},
   "source": [
    "Normalizado"
   ]
  },
  {
   "cell_type": "code",
   "execution_count": 105,
   "metadata": {},
   "outputs": [
    {
     "data": {
      "text/plain": [
       "[500,\n",
       " 750,\n",
       " 1000,\n",
       " 1250,\n",
       " 1500,\n",
       " 1750,\n",
       " 2000,\n",
       " 2250,\n",
       " 2500,\n",
       " 2750,\n",
       " 3000,\n",
       " 3250,\n",
       " 3500,\n",
       " 3750,\n",
       " 4000,\n",
       " 4250,\n",
       " 4500,\n",
       " 4750]"
      ]
     },
     "execution_count": 105,
     "metadata": {},
     "output_type": "execute_result"
    }
   ],
   "source": [
    "nodos_prima = nodos[0:len(tiempos)]\n",
    "nodos_prima"
   ]
  },
  {
   "cell_type": "code",
   "execution_count": 66,
   "metadata": {},
   "outputs": [
    {
     "data": {
      "text/plain": [
       "75.0"
      ]
     },
     "execution_count": 66,
     "metadata": {},
     "output_type": "execute_result"
    }
   ],
   "source": [
    "100/(4/3)"
   ]
  },
  {
   "cell_type": "code",
   "execution_count": 5,
   "metadata": {},
   "outputs": [],
   "source": [
    "(variables_nodos, tiempos_de_los_nodos) = readTiempos(\"tiempos-nodos.txt500-4750\")\n",
    "nodos_prima = variables_nodos\n",
    "tiempos = tiempos_de_los_nodos"
   ]
  },
  {
   "cell_type": "code",
   "execution_count": 87,
   "metadata": {},
   "outputs": [],
   "source": [
    "tiempos_nodos_normalizados = [x/(v*v) for (v,x) in zip(nodos, tiempos)] "
   ]
  },
  {
   "cell_type": "code",
   "execution_count": 94,
   "metadata": {},
   "outputs": [
    {
     "data": {
      "image/png": "[encoded data removed]",
      "text/plain": [
       "<Figure size 432x288 with 1 Axes>"
      ]
     },
     "metadata": {},
     "output_type": "display_data"
    }
   ],
   "source": [
    "#x = [start+distancia*x for x in range(0,5)]\n",
    "plt.plot(nodos, tiempos_nodos_normalizados, marker='o', linestyle = ':', label = \"tiempo de computo del ranking\")\n",
    "#plt.plot([z/100-8 for z in range(500,2000)], label = \"x/100 - 10\")\n",
    "plt.xlabel(\"cantidad de nodos\")\n",
    "plt.ylabel(\"tiempo (microsegundos)\")\n",
    "plt.title(\"Tiempo en función de la cantidad de nodos (normalizado)\")\n",
    "plt.legend(loc=2)\n",
    "plt.savefig(\"tiempo_nodos_prop_500-2000-normalizado-e3\"+\".png\")\n",
    "plt.show()"
   ]
  },
  {
   "cell_type": "markdown",
   "metadata": {},
   "source": [
    "## Variamos cantidad de ejes\n"
   ]
  },
  {
   "cell_type": "code",
   "execution_count": 3,
   "metadata": {},
   "outputs": [],
   "source": [
    "ejecutable = '../src/tp1'\n",
    "p = 0.85\n",
    "file_input_ejes = 'cuantitativos/test-ejes'\n",
    "file_tiempos_ejes = 'tiempos_ejes.txt'\n",
    "file_output_ejes = file_input_ejes\n"
   ]
  },
  {
   "cell_type": "code",
   "execution_count": 31,
   "metadata": {},
   "outputs": [],
   "source": [
    "nodos_fijo = 2000\n",
    "cuantos_ejes = 25\n",
    "ejes_init = 8000\n",
    "distancia_ejes = 8000\n",
    "repeticiones_ejes = 5\n",
    "\n",
    "ejes = [ejes_init+distancia_ejes*x for x in range(0,cuantos_ejes+1)]"
   ]
  },
  {
   "cell_type": "code",
   "execution_count": 4,
   "metadata": {},
   "outputs": [],
   "source": [
    "nodos_fijo = 1000\n",
    "cuantos_ejes = 25\n",
    "max_ejes = nodos_fijo*(nodos_fijo-1)\n",
    "\n",
    "repeticiones_ejes = 5\n",
    "\n",
    "ejes = [max_ejes*(x/cuantos_ejes) for x in range(1,cuantos_ejes)]"
   ]
  },
  {
   "cell_type": "code",
   "execution_count": 3,
   "metadata": {},
   "outputs": [
    {
     "data": {
      "text/plain": [
       "[6053976.2,\n",
       " 4868473.0,\n",
       " 4108631.6,\n",
       " 4061610.6,\n",
       " 4308217.4,\n",
       " 4566597.0,\n",
       " 5313834.2,\n",
       " 6087787.4,\n",
       " 6992379.4,\n",
       " 7988177.4,\n",
       " 9378221.6,\n",
       " 11155389.6,\n",
       " 12589309.0,\n",
       " 14207340.8,\n",
       " 15981314.0,\n",
       " 17982905.2,\n",
       " 20111068.6,\n",
       " 24556771.0,\n",
       " 27711709.8,\n",
       " 31084098.2,\n",
       " 35823863.8,\n",
       " 40642125.8,\n",
       " 43314076.6,\n",
       " 44296814.4]"
      ]
     },
     "execution_count": 3,
     "metadata": {},
     "output_type": "execute_result"
    }
   ],
   "source": [
    "(variables, tiempos_variables) = readTiempos(\"tiempos_ejes.txt\")\n",
    "tiempos_variables"
   ]
  },
  {
   "cell_type": "code",
   "execution_count": 33,
   "metadata": {},
   "outputs": [],
   "source": [
    "tiempos_ejes = []\n",
    "for e in ejes:\n",
    "    grafo = nx.gnm_random_graph(nodos_fijo, e, seed=597234279, directed=True)\n",
    "    filtrado = [(nodox == nodoy) for (nodox, nodoy) in grafo.edges()]\n",
    "    #veo que no autoejes\n",
    "    while True in filtrado:\n",
    "        grafo = nx.gnm_random_graph(nodos_fijo, e, seed=1687980, directed=True)\n",
    "        filtrado = [(nodox == nodoy) for (nodox, nodoy) in grafo.edges()]\n",
    "    \n",
    "    nombre_archivo = file_input+'-'+str(len(grafo))+'-'+str(grafo.number_of_edges())+'.txt'\n",
    "    writeGraph(grafo, nombre_archivo)\n",
    "    \n",
    "    tiempo_acum = 0.0\n",
    "    for i in range(repeticiones_ejes):\n",
    "11\n",
    "        proceso = subprocess.Popen([ejecutable,nombre_archivo, str(p),'-t'],stdout=subprocess.PIPE)\n",
    "        [output, error] = proceso.communicate()\n",
    "        tiempo_acum = tiempo_acum + float(output)\n",
    "\n",
    "    tiempo_acum = tiempo_acum/float(repeticiones_ejes)\n",
    "    tiempos_ejes.append(tiempo_acum) \n",
    "   "
   ]
  },
  {
   "cell_type": "code",
   "execution_count": 32,
   "metadata": {},
   "outputs": [],
   "source": []
  },
  {
   "cell_type": "code",
   "execution_count": 33,
   "metadata": {},
   "outputs": [
    {
     "data": {
      "text/plain": [
       "[6053976.2,\n",
       " 4868473.0,\n",
       " 4108631.6,\n",
       " 4061610.6,\n",
       " 4308217.4,\n",
       " 4566597.0,\n",
       " 5313834.2,\n",
       " 6087787.4,\n",
       " 6992379.4,\n",
       " 7988177.4,\n",
       " 9378221.6,\n",
       " 11155389.6,\n",
       " 12589309.0,\n",
       " 14207340.8,\n",
       " 15981314.0,\n",
       " 17982905.2,\n",
       " 20111068.6,\n",
       " 24556771.0,\n",
       " 27711709.8,\n",
       " 31084098.2,\n",
       " 35823863.8,\n",
       " 40642125.8,\n",
       " 43314076.6,\n",
       " 44296814.4]"
      ]
     },
     "execution_count": 33,
     "metadata": {},
     "output_type": "execute_result"
    }
   ],
   "source": [
    "with open(file_tiempos_ejes, 'w') as f:\n",
    "    for e, t in zip(ejes, tiempos_ejes):\n",
    "        f.write(str(e)+' '+str(t)+'\\n')\n",
    "tiempos_ejes"
   ]
  },
  {
   "cell_type": "code",
   "execution_count": 9,
   "metadata": {},
   "outputs": [
    {
     "data": {
      "image/png": "[encoded data removed]",
      "text/plain": [
       "<Figure size 432x288 with 1 Axes>"
      ]
     },
     "metadata": {},
     "output_type": "display_data"
    }
   ],
   "source": [
    "#tiempos_variables_prima = [x/(4000*v) for (v,x) in zip(variables[, tiempos_variables)]\n",
    "plt.plot(variables, tiempos_variables, marker='o', label = \"tiempo de cómputo\")\n",
    "#plt.plot([z*z/30000 for z in range(80000,1000000)], label = \"f(x) = 45x\" ) \n",
    "plt.xlabel(\"cantidad de ejes\")\n",
    "plt.ylabel(\"tiempo (microsegundos)\")\n",
    "plt.title(\"Tiempo en función de la cantidad de ejes\")\n",
    "plt.legend(loc=2)\n",
    "#plt.savefig(\"tiempo_ejes\"+ \".png\")\n",
    "plt.show()"
   ]
  },
  {
   "cell_type": "markdown",
   "metadata": {},
   "source": [
    "Normalizado"
   ]
  },
  {
   "cell_type": "code",
   "execution_count": 7,
   "metadata": {},
   "outputs": [],
   "source": [
    "tiempos_ejes_normalizados = [x/(v) for (v,x) in zip(variables, tiempos_variables)] "
   ]
  },
  {
   "cell_type": "code",
   "execution_count": 8,
   "metadata": {},
   "outputs": [
    {
     "data": {
      "image/png": "[encoded data removed]",
      "text/plain": [
       "<Figure size 432x288 with 1 Axes>"
      ]
     },
     "metadata": {},
     "output_type": "display_data"
    }
   ],
   "source": [
    "plt.plot(variables, tiempos_ejes_normalizados, marker='o', label = \"tiempo de cómputo\")\n",
    "#plt.plot([z/10000-50 for z in range(80000,1000000)], label = \"f(x) = 45x\" ) \n",
    "plt.xlabel(\"cantidad de ejes\")\n",
    "plt.ylabel(\"tiempo (microsegundos)\")\n",
    "plt.title(\"Tiempo en función de la cantidad de ejes\")\n",
    "plt.legend(loc=2)\n",
    "#plt.savefig(\"tiempo_ejes\"+ \".png\")\n",
    "plt.show()"
   ]
  },
  {
   "cell_type": "markdown",
   "metadata": {},
   "source": [
    "## Variando P"
   ]
  },
  {
   "cell_type": "code",
   "execution_count": 15,
   "metadata": {},
   "outputs": [],
   "source": [
    "ejecutable = '../src/tp1'\n",
    "#p = 0.85\n",
    "file_input_p = 'cuantitativos/test-p'\n",
    "file_tiempos_p = 'tiempos_p.txt'\n",
    "file_output_p = file_input_p\n"
   ]
  },
  {
   "cell_type": "code",
   "execution_count": 16,
   "metadata": {},
   "outputs": [],
   "source": [
    "nodos_p= 1000\n",
    "ejes_p = 8000\n",
    "repeticiones_p= 5\n",
    "\n",
    "ps = [0.1,0.2,0.3,0.4,0.5,0.6,0.7,0.8,0.85,0.9]"
   ]
  },
  {
   "cell_type": "code",
   "execution_count": 17,
   "metadata": {},
   "outputs": [],
   "source": [
    "tiempos_p = []\n",
    "for p in ps:\n",
    "    grafo = nx.gnm_random_graph(nodos_p, ejes_p, seed=546412, directed=True)\n",
    "    filtrado = [(nodox == nodoy) for (nodox, nodoy) in grafo.edges()]\n",
    "    #veo que no autoejes\n",
    "    while True in filtrado:\n",
    "        grafo = nx.gnm_random_graph(nodos_p, ejes_p, seed=546412, directed=True)\n",
    "        filtrado = [(nodox == nodoy) for (nodox, nodoy) in grafo.edges()]\n",
    "    \n",
    "    nombre_archivo = file_input_p+'-p'+str(p)+'-'+str(len(grafo))+'-'+str(grafo.number_of_edges())+'.txt'\n",
    "    writeGraph(grafo, nombre_archivo)\n",
    "    \n",
    "    tiempo_acum = 0.0\n",
    "    for i in range(repeticiones_p):\n",
    "\n",
    "        proceso = subprocess.Popen([ejecutable,nombre_archivo, str(p),'-t'],stdout=subprocess.PIPE)\n",
    "        [output, error] = proceso.communicate()\n",
    "        tiempo_acum = tiempo_acum + float(output)\n",
    "\n",
    "    tiempo_acum = tiempo_acum/float(repeticiones_p)\n",
    "    tiempos_p.append(tiempo_acum) \n",
    "   "
   ]
  },
  {
   "cell_type": "code",
   "execution_count": 19,
   "metadata": {},
   "outputs": [
    {
     "data": {
      "text/plain": [
       "[549984.8,\n",
       " 1519556.0,\n",
       " 2076194.0,\n",
       " 2270072.0,\n",
       " 2419764.0,\n",
       " 2532058.0,\n",
       " 2599526.0,\n",
       " 2637666.0,\n",
       " 2814420.0,\n",
       " 2897194.0]"
      ]
     },
     "execution_count": 19,
     "metadata": {},
     "output_type": "execute_result"
    }
   ],
   "source": [
    "with open(file_tiempos_p, 'w') as f:\n",
    "    for e, t in zip(ejes, tiempos_p):\n",
    "        f.write(str(e)+' '+str(t)+'\\n')\n",
    "tiempos_p"
   ]
  },
  {
   "cell_type": "code",
   "execution_count": 24,
   "metadata": {},
   "outputs": [
    {
     "data": {
      "image/png": "[encoded data removed]",
      "text/plain": [
       "<Figure size 432x288 with 1 Axes>"
      ]
     },
     "metadata": {},
     "output_type": "display_data"
    }
   ],
   "source": [
    "plt.plot(ps, tiempos_p, marker='o', linestyle = ':', label = \"tiempo de computo del ranking\")\n",
    "plt.plot([np.sqrt(x) for x in range(0,1)])\n",
    "plt.xlabel(\"p\")\n",
    "plt.ylabel(\"tiempo (microsegundos)\")\n",
    "plt.title(\"Tiempo en función de p\")\n",
    "plt.legend(loc=4)\n",
    "#plt.savefig(\"tiempo_p\"+\".png\")\n",
    "plt.show()"
   ]
  },
  {
   "cell_type": "code",
   "execution_count": null,
   "metadata": {},
   "outputs": [],
   "source": []
  }
 ],
 "metadata": {
  "kernelspec": {
   "display_name": "Python 3",
   "language": "python",
   "name": "python3"
  },
  "language_info": {
   "codemirror_mode": {
    "name": "ipython",
    "version": 3
   },
   "file_extension": ".py",
   "mimetype": "text/x-python",
   "name": "python",
   "nbconvert_exporter": "python",
   "pygments_lexer": "ipython3",
   "version": "3.6.4"
  }
 },
 "nbformat": 4,
 "nbformat_minor": 2
}
